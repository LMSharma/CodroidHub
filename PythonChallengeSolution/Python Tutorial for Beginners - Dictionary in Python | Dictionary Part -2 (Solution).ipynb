{
 "cells": [
  {
   "cell_type": "markdown",
   "metadata": {},
   "source": [
    "# This is the solution of the question asked in Dictionary Part-2 Video:\n",
    "Video at : https://youtu.be/RIYAsXXLTAU"
   ]
  },
  {
   "cell_type": "code",
   "execution_count": 1,
   "metadata": {},
   "outputs": [
    {
     "name": "stdout",
     "output_type": "stream",
     "text": [
      "Hi lalit how are you? I hope you are doing great. I am also utilizing my time in a good manner as per your guidance.\n"
     ]
    }
   ],
   "source": [
    "user_input = input()"
   ]
  },
  {
   "cell_type": "code",
   "execution_count": 2,
   "metadata": {},
   "outputs": [
    {
     "name": "stdout",
     "output_type": "stream",
     "text": [
      "Hi lalit how are you I hope you are doing great I am also utilizing my time in a good manner as per your guidance\n"
     ]
    }
   ],
   "source": [
    "# removing extra chracters\n",
    "output = ''.join([ch for ch in user_input if ch not in [',','.','?',';']])\n",
    "print(output)"
   ]
  },
  {
   "cell_type": "code",
   "execution_count": 7,
   "metadata": {},
   "outputs": [
    {
     "name": "stdout",
     "output_type": "stream",
     "text": [
      "Word : Hi, Frequency : 1\n",
      "Word : lalit, Frequency : 1\n",
      "Word : how, Frequency : 1\n",
      "Word : are, Frequency : 2\n",
      "Word : you, Frequency : 2\n",
      "Word : I, Frequency : 2\n",
      "Word : hope, Frequency : 1\n",
      "Word : doing, Frequency : 1\n",
      "Word : great, Frequency : 1\n",
      "Word : am, Frequency : 1\n",
      "Word : also, Frequency : 1\n",
      "Word : utilizing, Frequency : 1\n",
      "Word : my, Frequency : 1\n",
      "Word : time, Frequency : 1\n",
      "Word : in, Frequency : 1\n",
      "Word : a, Frequency : 1\n",
      "Word : good, Frequency : 1\n",
      "Word : manner, Frequency : 1\n",
      "Word : as, Frequency : 1\n",
      "Word : per, Frequency : 1\n",
      "Word : your, Frequency : 1\n",
      "Word : guidance, Frequency : 1\n"
     ]
    }
   ],
   "source": [
    "# counting the frequency of each word.\n",
    "# Empty Dictionary to store the word as key and its frequency as value\n",
    "word_dictionary = {}\n",
    "\n",
    "for word in output.split(\" \"): # spliting the sentence into words based on space\n",
    "    # if the word already in dictionary increment in the frequency\n",
    "    if word_dictionary.get(word) != None:\n",
    "        word_dictionary[word] = word_dictionary[word]+1\n",
    "    # if the word not in dictionary, Add it to dictionary and set the frequency to 1\n",
    "    else:\n",
    "        word_dictionary[word] = 1\n",
    "        \n",
    "# Frequency of each word'\n",
    "for item in word_dictionary.items():\n",
    "    print(\"Word : {0}, Frequency : {1}\".format(item[0],item[1]))"
   ]
  }
 ],
 "metadata": {
  "kernelspec": {
   "display_name": "Python 3",
   "language": "python",
   "name": "python3"
  },
  "language_info": {
   "codemirror_mode": {
    "name": "ipython",
    "version": 3
   },
   "file_extension": ".py",
   "mimetype": "text/x-python",
   "name": "python",
   "nbconvert_exporter": "python",
   "pygments_lexer": "ipython3",
   "version": "3.6.8"
  }
 },
 "nbformat": 4,
 "nbformat_minor": 2
}
